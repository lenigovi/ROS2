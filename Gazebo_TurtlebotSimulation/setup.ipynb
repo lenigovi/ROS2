{
 "cells": [
  {
   "cell_type": "markdown",
   "metadata": {},
   "source": [
    "# TurtleBot3 Simulation with ROS2\n",
    "\n",
    "Humble distribution is used."
   ]
  },
  {
   "cell_type": "code",
   "execution_count": null,
   "metadata": {
    "vscode": {
     "languageId": "shellscript"
    }
   },
   "outputs": [],
   "source": [
    "sudo apt update\n",
    "sudo apt install ros-humble-turtlebot3 ros-humble-turtlebot3-simulations"
   ]
  },
  {
   "cell_type": "code",
   "execution_count": null,
   "metadata": {
    "vscode": {
     "languageId": "shellscript"
    }
   },
   "outputs": [],
   "source": [
    "export TURTLEBOT3_MODEL=burger"
   ]
  },
  {
   "cell_type": "code",
   "execution_count": null,
   "metadata": {
    "vscode": {
     "languageId": "shellscript"
    }
   },
   "outputs": [],
   "source": [
    "ros2 launch turtlebot3_gazebo turtlebot3_world.launch.py"
   ]
  },
  {
   "cell_type": "code",
   "execution_count": null,
   "metadata": {
    "vscode": {
     "languageId": "shellscript"
    }
   },
   "outputs": [],
   "source": [
    "mkdir -p ~/ros2_ws/src\n",
    "cd ~/ros2_ws\n",
    "colcon build\n",
    "source install/setup.bash"
   ]
  },
  {
   "cell_type": "code",
   "execution_count": null,
   "metadata": {
    "vscode": {
     "languageId": "shellscript"
    }
   },
   "outputs": [],
   "source": [
    "cd ~/ros2_ws/src\n",
    "ros2 pkg create --build-type ament_python turtlebot_controller"
   ]
  },
  {
   "cell_type": "code",
   "execution_count": null,
   "metadata": {},
   "outputs": [],
   "source": [
    "# move_turtlebot.py\n",
    "\n",
    "import rclpy\n",
    "from rclpy.node import Node\n",
    "from geometry_msgs.msg import Twist\n",
    "\n",
    "class TurtleBotController(Node):\n",
    "\n",
    "    def __init__(self):\n",
    "        super().__init__('turtlebot_controller')\n",
    "        self.publisher_ = self.create_publisher(Twist, '/cmd_vel', 10)\n",
    "        timer_period = 0.5  # seconds\n",
    "        self.timer = self.create_timer(timer_period, self.move_turtlebot)\n",
    "        self.velocity = Twist()\n",
    "\n",
    "    def move_turtlebot(self):\n",
    "        self.velocity.linear.x = 0.2  # Move forward with a velocity of 0.2\n",
    "        self.velocity.angular.z = 0.0  # No rotation\n",
    "        self.publisher_.publish(self.velocity)\n",
    "\n",
    "def main(args=None):\n",
    "    rclpy.init(args=args)\n",
    "    turtlebot_controller = TurtleBotController()\n",
    "\n",
    "    rclpy.spin(turtlebot_controller)\n",
    "\n",
    "    turtlebot_controller.destroy_node()\n",
    "    rclpy.shutdown()\n",
    "\n",
    "if __name__ == '__main__':\n",
    "    main()\n"
   ]
  },
  {
   "cell_type": "code",
   "execution_count": null,
   "metadata": {},
   "outputs": [],
   "source": [
    "from setuptools import setup\n",
    "\n",
    "package_name = 'turtlebot_controller'\n",
    "\n",
    "setup(\n",
    "    name=package_name,\n",
    "    version='0.0.0',\n",
    "    packages=[package_name],\n",
    "    install_requires=['setuptools'],\n",
    "    zip_safe=True,\n",
    "    maintainer='your_name',\n",
    "    maintainer_email='your_email@example.com',\n",
    "    description='A simple package to control TurtleBot in Gazebo.',\n",
    "    license='Apache License 2.0',\n",
    "    tests_require=['pytest'],\n",
    "    entry_points={\n",
    "        'console_scripts': [\n",
    "            'move_turtlebot = turtlebot_controller.move_turtlebot:main',\n",
    "        ],\n",
    "    },\n",
    ")"
   ]
  },
  {
   "cell_type": "code",
   "execution_count": null,
   "metadata": {
    "vscode": {
     "languageId": "shellscript"
    }
   },
   "outputs": [],
   "source": [
    "cd ~/ros2_ws\n",
    "colcon build"
   ]
  },
  {
   "cell_type": "code",
   "execution_count": null,
   "metadata": {
    "vscode": {
     "languageId": "shellscript"
    }
   },
   "outputs": [],
   "source": [
    "source install/setup.bash\n",
    "ros2 run turtlebot_controller move_turtlebot"
   ]
  }
 ],
 "metadata": {
  "language_info": {
   "name": "python"
  }
 },
 "nbformat": 4,
 "nbformat_minor": 2
}
